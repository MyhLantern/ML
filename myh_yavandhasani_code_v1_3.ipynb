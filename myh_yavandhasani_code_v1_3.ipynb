{
  "nbformat": 4,
  "nbformat_minor": 0,
  "metadata": {
    "colab": {
      "provenance": [],
      "collapsed_sections": [],
      "authorship_tag": "ABX9TyObE50K7ViENSc1xvvAAhsN",
      "include_colab_link": true
    },
    "kernelspec": {
      "name": "python3",
      "display_name": "Python 3"
    },
    "language_info": {
      "name": "python"
    }
  },
  "cells": [
    {
      "cell_type": "markdown",
      "metadata": {
        "id": "view-in-github",
        "colab_type": "text"
      },
      "source": [
        "<a href=\"https://colab.research.google.com/github/MyhLantern/ML/blob/main/myh_yavandhasani_code_v1_3.ipynb\" target=\"_parent\"><img src=\"https://colab.research.google.com/assets/colab-badge.svg\" alt=\"Open In Colab\"/></a>"
      ]
    },
    {
      "cell_type": "code",
      "source": [
        "from abc import ABC, abstractmethod\n",
        "\n",
        "class MyhSparce(ABC):\n",
        "    \n",
        "    def compress_to_array(self):\n",
        "      pass\n",
        "\n",
        "    @abstractmethod\n",
        "    def decompress_from_array(self):\n",
        "      pass\n",
        "\n"
      ],
      "metadata": {
        "id": "4HsOVbidww1_"
      },
      "execution_count": null,
      "outputs": []
    },
    {
      "cell_type": "code",
      "source": [
        "from abc import ABC, abstractmethod\n",
        "import numpy as np\n",
        " \n",
        "class Sparce(MyhSparce):        \n",
        "    def __init__(self, spmatrix):\n",
        "        self.sp_matrix = spmatrix\n",
        "        self.efi_arr = []\n",
        "        \n",
        "    def compress_to_array(self):\n",
        "      self.efi_arr = []\n",
        "      \n",
        "      for i in range(self.sp_matrix.shape[0]):\n",
        "        for j in range(self.sp_matrix.shape[1]):\n",
        "            if self.sp_matrix[i,j] != 0 :\n",
        "              triplet = [i, j, self.sp_matrix[i][j]]\n",
        "              self.efi_arr.append(triplet)  \n",
        "      return self.efi_arr\n",
        "\n",
        "    def decompress_from_array(self):\n",
        "      sp_mat = np.array([[0. for x in range(self.sp_matrix.shape[0])] for z in range(self.sp_matrix.shape[1])])\n",
        "\n",
        "      count = len(self.efi_arr)\n",
        "      for i in range(count):\n",
        "          sp_mat[self.efi_arr[i][0], self.efi_arr[i][1]] = self.efi_arr[i][2]\n",
        "      return sp_mat\n",
        "\n"
      ],
      "metadata": {
        "id": "FBXdOo1Oxkm9"
      },
      "execution_count": null,
      "outputs": []
    },
    {
      "cell_type": "code",
      "source": [
        "import numpy as np\n",
        "sparse_matrix = np.array([[0,0,7],[0,-5,0],[3,0,0]])\n",
        "\n",
        "print('--------------------------------------------------------')\n",
        "print('Main sparse matrix:')\n",
        "print(sparse_matrix)\n",
        "\n",
        "print('--------------------------------------------------------')\n",
        "print('Compressed sparse matrix:')\n",
        "mySp = Sparce(sparse_matrix)\n",
        "efi_arr_ret = mySp.compress_to_array()\n",
        "print(efi_arr_ret)\n",
        "\n",
        "print('--------------------------------------------------------')\n",
        "print('Decompressed sparse matrix:')\n",
        "print(mySp.decompress_from_array())"
      ],
      "metadata": {
        "colab": {
          "base_uri": "https://localhost:8080/"
        },
        "id": "eO5tPltaz-EZ",
        "outputId": "5f53d615-6c70-407b-ab5a-888aad10b3f4"
      },
      "execution_count": null,
      "outputs": [
        {
          "output_type": "stream",
          "name": "stdout",
          "text": [
            "--------------------------------------------------------\n",
            "Main sparse matrix:\n",
            "[[ 0  0  7]\n",
            " [ 0 -5  0]\n",
            " [ 3  0  0]]\n",
            "--------------------------------------------------------\n",
            "Compressed sparse matrix:\n",
            "[[0, 2, 7], [1, 1, -5], [2, 0, 3]]\n",
            "--------------------------------------------------------\n",
            "Decompressed sparse matrix:\n",
            "[[ 0.  0.  7.]\n",
            " [ 0. -5.  0.]\n",
            " [ 3.  0.  0.]]\n"
          ]
        }
      ]
    },
    {
      "cell_type": "code",
      "source": [
        "print('Test functionality of our class: ')\n"
      ],
      "metadata": {
        "colab": {
          "base_uri": "https://localhost:8080/"
        },
        "id": "2GCspuCQEB04",
        "outputId": "5950a488-43cb-4a5c-a17a-fb1ca6d00d26"
      },
      "execution_count": null,
      "outputs": [
        {
          "output_type": "stream",
          "name": "stdout",
          "text": [
            "Test functionality of our class: \n"
          ]
        }
      ]
    },
    {
      "cell_type": "code",
      "source": [
        "import unittest\n",
        "import numpy as np\n",
        "\n",
        "class TestSparce(unittest.TestCase):\n",
        "\n",
        "    def test_sparse_compress_decompress(self):\n",
        "\n",
        "        sparse_matrix = np.array([[0,0,0],[0,-5,0],[0,0,6]])\n",
        "  \n",
        "        mySp = Sparce(sparse_matrix)\n",
        "        comp_ret = mySp.compress_to_array()\n",
        "        decomp_ret = mySp.decompress_from_array()\n",
        "\n",
        "        self.assertTrue(np.array_equal(sparse_matrix, decomp_ret))\n",
        "\n",
        "\n"
      ],
      "metadata": {
        "id": "4A-cpwnvEDu_"
      },
      "execution_count": null,
      "outputs": []
    },
    {
      "cell_type": "code",
      "source": [
        "unittest.main(argv=[''], verbosity=2, exit=False)"
      ],
      "metadata": {
        "colab": {
          "base_uri": "https://localhost:8080/"
        },
        "id": "pP5oTdXSJEbs",
        "outputId": "86dff0c6-92d3-4042-b564-4f8162f9acf7"
      },
      "execution_count": null,
      "outputs": [
        {
          "output_type": "stream",
          "name": "stderr",
          "text": [
            "test_sparse_compress_decompress (__main__.TestSparce) ... ok\n",
            "\n",
            "----------------------------------------------------------------------\n",
            "Ran 1 test in 0.007s\n",
            "\n",
            "OK\n"
          ]
        },
        {
          "output_type": "execute_result",
          "data": {
            "text/plain": [
              "<unittest.main.TestProgram at 0x7fda38b15e50>"
            ]
          },
          "metadata": {},
          "execution_count": 8
        }
      ]
    }
  ]
}